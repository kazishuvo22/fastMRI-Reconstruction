{
  "nbformat": 4,
  "nbformat_minor": 0,
  "metadata": {
    "colab": {
      "name": "test_data2npy.ipynb",
      "provenance": [],
      "mount_file_id": "1vfiZtWHcLK9Skp6fHliVFVTOJEQzref8",
      "authorship_tag": "ABX9TyNH1MOkae4yZ09VwReqUc1r",
      "include_colab_link": true
    },
    "kernelspec": {
      "name": "python3",
      "display_name": "Python 3"
    }
  },
  "cells": [
    {
      "cell_type": "markdown",
      "metadata": {
        "id": "view-in-github",
        "colab_type": "text"
      },
      "source": [
        "<a href=\"https://colab.research.google.com/github/kazishuvo22/fastMRI-Reconstruction/blob/master/test_data2npy.ipynb\" target=\"_parent\"><img src=\"https://colab.research.google.com/assets/colab-badge.svg\" alt=\"Open In Colab\"/></a>"
      ]
    },
    {
      "cell_type": "markdown",
      "metadata": {
        "id": "1GhetfT261mz",
        "colab_type": "text"
      },
      "source": [
        "#Loads test data and convert to npy for running predictions"
      ]
    },
    {
      "cell_type": "code",
      "metadata": {
        "id": "Pqm18Ab56kvi",
        "colab_type": "code",
        "colab": {}
      },
      "source": [
        "import os, glob\n",
        "import cv2\n",
        "import numpy as np\n",
        "import matplotlib.pyplot as plt\n",
        "import h5py\n",
        "import support as s\n",
        "from tqdm import tqdm\n",
        "import transforms as T\n",
        "import tensorflow as tf\n",
        "from subsample import RandomMaskFunc"
      ],
      "execution_count": 2,
      "outputs": []
    },
    {
      "cell_type": "markdown",
      "metadata": {
        "id": "6gsrqMV9_nBz",
        "colab_type": "text"
      },
      "source": [
        "\n",
        "As there is missing fastmri folder\n",
        "from fastMRI.data import transforms as T\n",
        "\n",
        "from fastMRI.common.subsample import RandomMaskFunc"
      ]
    },
    {
      "cell_type": "code",
      "metadata": {
        "id": "HIrB16X1_PM4",
        "colab_type": "code",
        "colab": {}
      },
      "source": [
        "TEST_DIR_PATH  = \"/content/drive/My Drive/CSE499N/Test_fromTrain\""
      ],
      "execution_count": 29,
      "outputs": []
    },
    {
      "cell_type": "code",
      "metadata": {
        "id": "ymnd1N4c_Ttj",
        "colab_type": "code",
        "colab": {
          "base_uri": "https://localhost:8080/",
          "height": 34
        },
        "outputId": "5f3fca9f-3e39-4966-fa26-a7db3f6145ee"
      },
      "source": [
        "TEST_IMAGES_DIR_PATH  = glob.glob(os.path.join(TEST_DIR_PATH,\"*.h5\"))\n",
        "len(TEST_IMAGES_DIR_PATH )"
      ],
      "execution_count": 4,
      "outputs": [
        {
          "output_type": "execute_result",
          "data": {
            "text/plain": [
              "70"
            ]
          },
          "metadata": {
            "tags": []
          },
          "execution_count": 4
        }
      ]
    },
    {
      "cell_type": "code",
      "metadata": {
        "id": "Lv0e0OeL_ZGx",
        "colab_type": "code",
        "colab": {}
      },
      "source": [
        "def sub_sample_kspace(vol, mask_func):\n",
        "    \"\"\"\n",
        "    Transform a kpsace tensor to an undersampled 3D image using mask object 4x or 8x.\n",
        "    Args:\n",
        "        vol: kspace tensor\n",
        "        mask_func: mask function object (4x, 8x)\n",
        "    Returns:\n",
        "        sampled_image: output undersampled 3D image volume\n",
        "    \"\"\"\n",
        "    \n",
        "    # 1. convert numpy to torch tensor\n",
        "    kspace2ttensor = T.to_tensor(vol)\n",
        "    \n",
        "    ### NO MASKING IN TEST DATA AS IT IS ALREADY UNDERSAMPLED\n",
        "    # 2. apply mask to kspace\n",
        "    #masked_kspace, mask = T.apply_mask(kspace2ttensor, mask_func)   \n",
        "    \n",
        "    # 3. inverse fast fourier transform 2D\n",
        "    sampled_image = T.ifft2(kspace2ttensor)\n",
        "    \n",
        "    # 4. compute absolute value to get a real image\n",
        "    sampled_image_abs = T.complex_abs(sampled_image)\n",
        "    \n",
        "    # 5. centre crop to 320x320\n",
        "    cropped_image = T.center_crop(sampled_image_abs, (320, 320))\n",
        "    \n",
        "    # 6. Normalize\n",
        "    #cropped_image_norm, _, _ = T.normalize_instance(cropped_image)\n",
        "\n",
        "    # 7. convert torch tensor to good old numpy array\n",
        "    sampled_image = np.abs(cropped_image.numpy())\n",
        "    \n",
        "    return sampled_image\n",
        "\n",
        "\n",
        "def show_slices(data, slice_nums, cmap=None):\n",
        "    fig = plt.figure(figsize=(16, 16))\n",
        "    for i, num in enumerate(slice_nums):\n",
        "        plt.subplot(1, len(slice_nums), i + 1)\n",
        "        plt.imshow(data[num], cmap=cmap)"
      ],
      "execution_count": 5,
      "outputs": []
    },
    {
      "cell_type": "code",
      "metadata": {
        "id": "0JSuRFyvAAMP",
        "colab_type": "code",
        "colab": {
          "base_uri": "https://localhost:8080/",
          "height": 35
        },
        "outputId": "434f6489-428f-4811-f1a4-f72ed4554cd7"
      },
      "source": [
        "TEST_IMAGES_DIR_PATH[0]"
      ],
      "execution_count": 6,
      "outputs": [
        {
          "output_type": "execute_result",
          "data": {
            "application/vnd.google.colaboratory.intrinsic+json": {
              "type": "string"
            },
            "text/plain": [
              "'/content/drive/My Drive/CSE499N/Test_fromTrain/file1000689.h5'"
            ]
          },
          "metadata": {
            "tags": []
          },
          "execution_count": 6
        }
      ]
    },
    {
      "cell_type": "code",
      "metadata": {
        "id": "Sh_eKY41_kfa",
        "colab_type": "code",
        "colab": {
          "base_uri": "https://localhost:8080/",
          "height": 88
        },
        "outputId": "07ccf849-45af-4e86-b465-3785c51bda74"
      },
      "source": [
        "file = TEST_IMAGES_DIR_PATH[0]\n",
        "hf = h5py.File(file)\n",
        "print(type(hf))"
      ],
      "execution_count": 7,
      "outputs": [
        {
          "output_type": "stream",
          "text": [
            "<class 'h5py._hl.files.File'>\n"
          ],
          "name": "stdout"
        },
        {
          "output_type": "stream",
          "text": [
            "/usr/local/lib/python3.6/dist-packages/ipykernel_launcher.py:2: H5pyDeprecationWarning: The default file mode will change to 'r' (read-only) in h5py 3.0. To suppress this warning, pass the mode you need to h5py.File(), or set the global default h5.get_config().default_file_mode, or set the environment variable H5PY_DEFAULT_READONLY=1. Available modes are: 'r', 'r+', 'w', 'w-'/'x', 'a'. See the docs for details.\n",
            "  \n"
          ],
          "name": "stderr"
        }
      ]
    },
    {
      "cell_type": "code",
      "metadata": {
        "id": "FMtn22x-_8hH",
        "colab_type": "code",
        "colab": {
          "base_uri": "https://localhost:8080/",
          "height": 71
        },
        "outputId": "c089d2fa-da88-4c39-d7a3-06f33e7c2ddd"
      },
      "source": [
        "print('Keys:', list(hf.keys()))\n",
        "print('Attrs:', dict(hf.attrs))"
      ],
      "execution_count": 8,
      "outputs": [
        {
          "output_type": "stream",
          "text": [
            "Keys: ['ismrmrd_header', 'kspace', 'reconstruction_esc', 'reconstruction_rss']\n",
            "Attrs: {'acquisition': 'CORPDFS_FBK', 'max': 0.00019917085410891853, 'norm': 0.03874909004464203, 'patient_id': '98d1e64c79954989cf2f091908bbbf7dd3cef9bcf0b432da8def199160fcffda'}\n"
          ],
          "name": "stdout"
        }
      ]
    },
    {
      "cell_type": "code",
      "metadata": {
        "id": "IzdD8d2JAC5U",
        "colab_type": "code",
        "colab": {}
      },
      "source": [
        "#mask = hf['mask']\n",
        "#mask"
      ],
      "execution_count": null,
      "outputs": []
    },
    {
      "cell_type": "markdown",
      "metadata": {
        "id": "Pv8KAknLAJ4X",
        "colab_type": "text"
      },
      "source": [
        "\n",
        "##Kspace tensor"
      ]
    },
    {
      "cell_type": "code",
      "metadata": {
        "id": "nm6ImUApAGUS",
        "colab_type": "code",
        "colab": {
          "base_uri": "https://localhost:8080/",
          "height": 51
        },
        "outputId": "d4b4d2ba-2bd8-440b-9b09-609ff46c9ddb"
      },
      "source": [
        "kspace_tensor = hf['kspace'][()]\n",
        "print(kspace_tensor.shape)\n",
        "img_3d = sub_sample_kspace(kspace_tensor, _)\n",
        "print(img_3d.shape)"
      ],
      "execution_count": 10,
      "outputs": [
        {
          "output_type": "stream",
          "text": [
            "(30, 640, 372)\n",
            "(30, 320, 320)\n"
          ],
          "name": "stdout"
        }
      ]
    },
    {
      "cell_type": "code",
      "metadata": {
        "id": "qRtsvoJjAQHO",
        "colab_type": "code",
        "colab": {
          "base_uri": "https://localhost:8080/",
          "height": 206
        },
        "outputId": "79a31ae0-770a-432f-9528-84bcb03a4d25"
      },
      "source": [
        "slice_num = [12, 16, 19, 22, 24]\n",
        "show_slices(img_3d, slice_num, cmap='gray')"
      ],
      "execution_count": 11,
      "outputs": [
        {
          "output_type": "display_data",
          "data": {
            "image/png": "[encoded data removed]",
            "text/plain": [
              "<Figure size 1152x1152 with 5 Axes>"
            ]
          },
          "metadata": {
            "tags": [],
            "needs_background": "light"
          }
        }
      ]
    },
    {
      "cell_type": "code",
      "metadata": {
        "id": "FF5NSn-wATVS",
        "colab_type": "code",
        "colab": {
          "base_uri": "https://localhost:8080/",
          "height": 312
        },
        "outputId": "cf68325e-3e58-4735-e227-9d122c9cedc7"
      },
      "source": [
        "img_flat = img_3d.flatten()\n",
        "print(min(img_flat), max(img_flat))\n",
        "plt.hist(img_flat, bins=20, color='c')\n",
        "plt.title(\"Before normalization\")\n",
        "plt.xlabel(\"Raw\")\n",
        "plt.grid(True)\n",
        "plt.ylabel(\"Frequency\")\n",
        "plt.show()"
      ],
      "execution_count": 12,
      "outputs": [
        {
          "output_type": "stream",
          "text": [
            "2.6556087e-08 0.00019917084\n"
          ],
          "name": "stdout"
        },
        {
          "output_type": "display_data",
          "data": {
            "image/png": "[encoded data removed]",
            "text/plain": [
              "<Figure size 432x288 with 1 Axes>"
            ]
          },
          "metadata": {
            "tags": [],
            "needs_background": "light"
          }
        }
      ]
    },
    {
      "cell_type": "code",
      "metadata": {
        "id": "9WC9ZzhsAXxv",
        "colab_type": "code",
        "colab": {
          "base_uri": "https://localhost:8080/",
          "height": 34
        },
        "outputId": "47b98f81-7139-4508-b684-de26f3b3669a"
      },
      "source": [
        "a = s.normalize(img_3d)\n",
        "a.shape"
      ],
      "execution_count": 13,
      "outputs": [
        {
          "output_type": "execute_result",
          "data": {
            "text/plain": [
              "(30, 320, 320)"
            ]
          },
          "metadata": {
            "tags": []
          },
          "execution_count": 13
        }
      ]
    },
    {
      "cell_type": "code",
      "metadata": {
        "id": "RKLptTE4AckO",
        "colab_type": "code",
        "colab": {
          "base_uri": "https://localhost:8080/",
          "height": 312
        },
        "outputId": "972ac85d-47ac-4793-aa69-4fbbb5032b71"
      },
      "source": [
        "img_flat = a.flatten()\n",
        "print(min(img_flat), max(img_flat))\n",
        "plt.hist(img_flat, bins=20, color='c')\n",
        "plt.title(\"After normalization\")\n",
        "plt.xlabel(\"Raw\")\n",
        "plt.grid(True)\n",
        "plt.ylabel(\"Frequency\")\n",
        "plt.show()"
      ],
      "execution_count": 14,
      "outputs": [
        {
          "output_type": "stream",
          "text": [
            "0.0 1.0\n"
          ],
          "name": "stdout"
        },
        {
          "output_type": "display_data",
          "data": {
            "image/png": "[encoded data removed]",
            "text/plain": [
              "<Figure size 432x288 with 1 Axes>"
            ]
          },
          "metadata": {
            "tags": [],
            "needs_background": "light"
          }
        }
      ]
    },
    {
      "cell_type": "code",
      "metadata": {
        "id": "eK1B1KP5Aj8p",
        "colab_type": "code",
        "colab": {
          "base_uri": "https://localhost:8080/",
          "height": 34
        },
        "outputId": "f03ee4af-0c00-4345-9740-bc94c571f143"
      },
      "source": [
        "# go back to original distribution\n",
        "c = a * 0.00035430153 + 1.2043776e-08\n",
        "c.shape"
      ],
      "execution_count": 15,
      "outputs": [
        {
          "output_type": "execute_result",
          "data": {
            "text/plain": [
              "(30, 320, 320)"
            ]
          },
          "metadata": {
            "tags": []
          },
          "execution_count": 15
        }
      ]
    },
    {
      "cell_type": "code",
      "metadata": {
        "id": "9D1eC9RIA2jT",
        "colab_type": "code",
        "colab": {
          "base_uri": "https://localhost:8080/",
          "height": 312
        },
        "outputId": "e238590d-a1b4-4ccf-8a43-68a4bfb76353"
      },
      "source": [
        "img_flat = c.flatten()\n",
        "print(min(img_flat), max(img_flat))\n",
        "plt.hist(img_flat, bins=20, color='c')\n",
        "plt.title(\"Before normalization\")\n",
        "plt.xlabel(\"Raw\")\n",
        "plt.grid(True)\n",
        "plt.ylabel(\"Frequency\")\n",
        "plt.show()"
      ],
      "execution_count": 16,
      "outputs": [
        {
          "output_type": "stream",
          "text": [
            "1.2043776e-08 0.00035431358\n"
          ],
          "name": "stdout"
        },
        {
          "output_type": "display_data",
          "data": {
            "image/png": "[encoded data removed]",
            "text/plain": [
              "<Figure size 432x288 with 1 Axes>"
            ]
          },
          "metadata": {
            "tags": [],
            "needs_background": "light"
          }
        }
      ]
    },
    {
      "cell_type": "code",
      "metadata": {
        "id": "_pa7G4MBBATk",
        "colab_type": "code",
        "colab": {}
      },
      "source": [
        "test_npy_path =\"/content/drive/My Drive/CSE499N/Single Coil testNpyFromTrain\""
      ],
      "execution_count": 28,
      "outputs": []
    },
    {
      "cell_type": "code",
      "metadata": {
        "id": "fleGqdxxBbJ5",
        "colab_type": "code",
        "colab": {
          "base_uri": "https://localhost:8080/",
          "height": 1000
        },
        "outputId": "f077268a-b2f1-4077-ca40-7a3f7a32efa8"
      },
      "source": [
        "i=0\n",
        "for file in tqdm(TEST_IMAGES_DIR_PATH[:]):\n",
        "    i+=1\n",
        "    \n",
        "    hf = h5py.File(file)\n",
        "    \n",
        "    # transform and save low res image volume\n",
        "    kspace_tensor = hf['kspace'][()]\n",
        "    img_3d = sub_sample_kspace(kspace_tensor, _)\n",
        "    \n",
        "    # Save \n",
        "    np.save(\"{}/f{}.npy\".format(test_npy_path, file[-16:-3]), img_3d) \n",
        "\n",
        "    # Show progress\n",
        "    print(i, file, \"raw data - \", kspace_tensor.shape, \"--\", \"input test volume - \", img_3d.shape)\n"
      ],
      "execution_count": 30,
      "outputs": [
        {
          "output_type": "stream",
          "text": [
            "\r  0%|          | 0/70 [00:00<?, ?it/s]/usr/local/lib/python3.6/dist-packages/ipykernel_launcher.py:5: H5pyDeprecationWarning: The default file mode will change to 'r' (read-only) in h5py 3.0. To suppress this warning, pass the mode you need to h5py.File(), or set the global default h5.get_config().default_file_mode, or set the environment variable H5PY_DEFAULT_READONLY=1. Available modes are: 'r', 'r+', 'w', 'w-'/'x', 'a'. See the docs for details.\n",
            "  \"\"\"\n",
            "  1%|▏         | 1/70 [00:00<00:24,  2.77it/s]"
          ],
          "name": "stderr"
        },
        {
          "output_type": "stream",
          "text": [
            "1 /content/drive/My Drive/CSE499N/Test_fromTrain/file1000689.h5 raw data -  (30, 640, 372) -- input test volume -  (30, 320, 320)\n"
          ],
          "name": "stdout"
        },
        {
          "output_type": "stream",
          "text": [
            "\r  3%|▎         | 2/70 [00:07<02:49,  2.49s/it]"
          ],
          "name": "stderr"
        },
        {
          "output_type": "stream",
          "text": [
            "2 /content/drive/My Drive/CSE499N/Test_fromTrain/file1000601.h5 raw data -  (30, 640, 372) -- input test volume -  (30, 320, 320)\n"
          ],
          "name": "stdout"
        },
        {
          "output_type": "stream",
          "text": [
            "\r  4%|▍         | 3/70 [00:17<05:16,  4.73s/it]"
          ],
          "name": "stderr"
        },
        {
          "output_type": "stream",
          "text": [
            "3 /content/drive/My Drive/CSE499N/Test_fromTrain/file1000583.h5 raw data -  (33, 640, 372) -- input test volume -  (33, 320, 320)\n"
          ],
          "name": "stdout"
        },
        {
          "output_type": "stream",
          "text": [
            "\r  6%|▌         | 4/70 [00:29<07:29,  6.81s/it]"
          ],
          "name": "stderr"
        },
        {
          "output_type": "stream",
          "text": [
            "4 /content/drive/My Drive/CSE499N/Test_fromTrain/file1000658.h5 raw data -  (30, 640, 372) -- input test volume -  (30, 320, 320)\n"
          ],
          "name": "stdout"
        },
        {
          "output_type": "stream",
          "text": [
            "\r  7%|▋         | 5/70 [00:37<07:42,  7.11s/it]"
          ],
          "name": "stderr"
        },
        {
          "output_type": "stream",
          "text": [
            "5 /content/drive/My Drive/CSE499N/Test_fromTrain/file1000653.h5 raw data -  (32, 640, 372) -- input test volume -  (32, 320, 320)\n"
          ],
          "name": "stdout"
        },
        {
          "output_type": "stream",
          "text": [
            "\r  9%|▊         | 6/70 [00:49<09:11,  8.62s/it]"
          ],
          "name": "stderr"
        },
        {
          "output_type": "stream",
          "text": [
            "6 /content/drive/My Drive/CSE499N/Test_fromTrain/file1000602.h5 raw data -  (30, 640, 372) -- input test volume -  (30, 320, 320)\n"
          ],
          "name": "stdout"
        },
        {
          "output_type": "stream",
          "text": [
            "\r 10%|█         | 7/70 [01:02<10:29,  9.98s/it]"
          ],
          "name": "stderr"
        },
        {
          "output_type": "stream",
          "text": [
            "7 /content/drive/My Drive/CSE499N/Test_fromTrain/file1000663.h5 raw data -  (33, 640, 372) -- input test volume -  (33, 320, 320)\n"
          ],
          "name": "stdout"
        },
        {
          "output_type": "stream",
          "text": [
            "\r 11%|█▏        | 8/70 [01:22<13:21, 12.93s/it]"
          ],
          "name": "stderr"
        },
        {
          "output_type": "stream",
          "text": [
            "8 /content/drive/My Drive/CSE499N/Test_fromTrain/file1000587.h5 raw data -  (30, 640, 372) -- input test volume -  (30, 320, 320)\n"
          ],
          "name": "stdout"
        },
        {
          "output_type": "stream",
          "text": [
            "\r 13%|█▎        | 9/70 [01:25<10:02,  9.87s/it]"
          ],
          "name": "stderr"
        },
        {
          "output_type": "stream",
          "text": [
            "9 /content/drive/My Drive/CSE499N/Test_fromTrain/file1000612.h5 raw data -  (45, 640, 372) -- input test volume -  (45, 320, 320)\n"
          ],
          "name": "stdout"
        },
        {
          "output_type": "stream",
          "text": [
            "\r 14%|█▍        | 10/70 [01:38<10:53, 10.89s/it]"
          ],
          "name": "stderr"
        },
        {
          "output_type": "stream",
          "text": [
            "10 /content/drive/My Drive/CSE499N/Test_fromTrain/file1000617.h5 raw data -  (33, 640, 372) -- input test volume -  (33, 320, 320)\n"
          ],
          "name": "stdout"
        },
        {
          "output_type": "stream",
          "text": [
            "\r 16%|█▌        | 11/70 [02:03<14:54, 15.16s/it]"
          ],
          "name": "stderr"
        },
        {
          "output_type": "stream",
          "text": [
            "11 /content/drive/My Drive/CSE499N/Test_fromTrain/file1000610.h5 raw data -  (36, 640, 372) -- input test volume -  (36, 320, 320)\n"
          ],
          "name": "stdout"
        },
        {
          "output_type": "stream",
          "text": [
            "\r 17%|█▋        | 12/70 [02:15<13:45, 14.24s/it]"
          ],
          "name": "stderr"
        },
        {
          "output_type": "stream",
          "text": [
            "12 /content/drive/My Drive/CSE499N/Test_fromTrain/file1000880.h5 raw data -  (36, 640, 372) -- input test volume -  (36, 320, 320)\n"
          ],
          "name": "stdout"
        },
        {
          "output_type": "stream",
          "text": [
            "\r 19%|█▊        | 13/70 [02:29<13:32, 14.26s/it]"
          ],
          "name": "stderr"
        },
        {
          "output_type": "stream",
          "text": [
            "13 /content/drive/My Drive/CSE499N/Test_fromTrain/file1000969.h5 raw data -  (33, 640, 372) -- input test volume -  (33, 320, 320)\n"
          ],
          "name": "stdout"
        },
        {
          "output_type": "stream",
          "text": [
            "\r 20%|██        | 14/70 [02:33<10:25, 11.16s/it]"
          ],
          "name": "stderr"
        },
        {
          "output_type": "stream",
          "text": [
            "14 /content/drive/My Drive/CSE499N/Test_fromTrain/file1000736.h5 raw data -  (41, 640, 372) -- input test volume -  (41, 320, 320)\n"
          ],
          "name": "stdout"
        },
        {
          "output_type": "stream",
          "text": [
            "\r 21%|██▏       | 15/70 [02:48<11:13, 12.25s/it]"
          ],
          "name": "stderr"
        },
        {
          "output_type": "stream",
          "text": [
            "15 /content/drive/My Drive/CSE499N/Test_fromTrain/file1000973.h5 raw data -  (30, 640, 372) -- input test volume -  (30, 320, 320)\n"
          ],
          "name": "stdout"
        },
        {
          "output_type": "stream",
          "text": [
            "\r 23%|██▎       | 16/70 [02:57<10:02, 11.16s/it]"
          ],
          "name": "stderr"
        },
        {
          "output_type": "stream",
          "text": [
            "16 /content/drive/My Drive/CSE499N/Test_fromTrain/file1000873.h5 raw data -  (30, 640, 372) -- input test volume -  (30, 320, 320)\n"
          ],
          "name": "stdout"
        },
        {
          "output_type": "stream",
          "text": [
            "\r 24%|██▍       | 17/70 [03:05<09:02, 10.23s/it]"
          ],
          "name": "stderr"
        },
        {
          "output_type": "stream",
          "text": [
            "17 /content/drive/My Drive/CSE499N/Test_fromTrain/file1000933.h5 raw data -  (30, 640, 372) -- input test volume -  (30, 320, 320)\n"
          ],
          "name": "stdout"
        },
        {
          "output_type": "stream",
          "text": [
            "\r 26%|██▌       | 18/70 [03:14<08:40, 10.00s/it]"
          ],
          "name": "stderr"
        },
        {
          "output_type": "stream",
          "text": [
            "18 /content/drive/My Drive/CSE499N/Test_fromTrain/file1000662.h5 raw data -  (37, 640, 372) -- input test volume -  (37, 320, 320)\n"
          ],
          "name": "stdout"
        },
        {
          "output_type": "stream",
          "text": [
            "\r 27%|██▋       | 19/70 [03:31<10:08, 11.94s/it]"
          ],
          "name": "stderr"
        },
        {
          "output_type": "stream",
          "text": [
            "19 /content/drive/My Drive/CSE499N/Test_fromTrain/file1000874.h5 raw data -  (38, 640, 372) -- input test volume -  (38, 320, 320)\n"
          ],
          "name": "stdout"
        },
        {
          "output_type": "stream",
          "text": [
            "\r 29%|██▊       | 20/70 [03:39<08:59, 10.80s/it]"
          ],
          "name": "stderr"
        },
        {
          "output_type": "stream",
          "text": [
            "20 /content/drive/My Drive/CSE499N/Test_fromTrain/file1000876.h5 raw data -  (33, 640, 372) -- input test volume -  (33, 320, 320)\n"
          ],
          "name": "stdout"
        },
        {
          "output_type": "stream",
          "text": [
            "\r 30%|███       | 21/70 [03:50<08:59, 11.02s/it]"
          ],
          "name": "stderr"
        },
        {
          "output_type": "stream",
          "text": [
            "21 /content/drive/My Drive/CSE499N/Test_fromTrain/file1000638.h5 raw data -  (36, 640, 370) -- input test volume -  (36, 320, 320)\n"
          ],
          "name": "stdout"
        },
        {
          "output_type": "stream",
          "text": [
            "\r 31%|███▏      | 22/70 [04:00<08:30, 10.64s/it]"
          ],
          "name": "stderr"
        },
        {
          "output_type": "stream",
          "text": [
            "22 /content/drive/My Drive/CSE499N/Test_fromTrain/file1000981.h5 raw data -  (30, 640, 372) -- input test volume -  (30, 320, 320)\n"
          ],
          "name": "stdout"
        },
        {
          "output_type": "stream",
          "text": [
            "\r 33%|███▎      | 23/70 [04:06<07:07,  9.09s/it]"
          ],
          "name": "stderr"
        },
        {
          "output_type": "stream",
          "text": [
            "23 /content/drive/My Drive/CSE499N/Test_fromTrain/file1000685.h5 raw data -  (29, 640, 372) -- input test volume -  (29, 320, 320)\n"
          ],
          "name": "stdout"
        },
        {
          "output_type": "stream",
          "text": [
            "\r 34%|███▍      | 24/70 [04:13<06:36,  8.62s/it]"
          ],
          "name": "stderr"
        },
        {
          "output_type": "stream",
          "text": [
            "24 /content/drive/My Drive/CSE499N/Test_fromTrain/file1000848.h5 raw data -  (33, 640, 372) -- input test volume -  (33, 320, 320)\n"
          ],
          "name": "stdout"
        },
        {
          "output_type": "stream",
          "text": [
            "\r 36%|███▌      | 25/70 [04:27<07:33, 10.08s/it]"
          ],
          "name": "stderr"
        },
        {
          "output_type": "stream",
          "text": [
            "25 /content/drive/My Drive/CSE499N/Test_fromTrain/file1000833.h5 raw data -  (37, 640, 372) -- input test volume -  (37, 320, 320)\n"
          ],
          "name": "stdout"
        },
        {
          "output_type": "stream",
          "text": [
            "\r 37%|███▋      | 26/70 [04:35<07:00,  9.55s/it]"
          ],
          "name": "stderr"
        },
        {
          "output_type": "stream",
          "text": [
            "26 /content/drive/My Drive/CSE499N/Test_fromTrain/file1000971.h5 raw data -  (32, 640, 372) -- input test volume -  (32, 320, 320)\n"
          ],
          "name": "stdout"
        },
        {
          "output_type": "stream",
          "text": [
            "\r 39%|███▊      | 27/70 [04:46<07:16, 10.15s/it]"
          ],
          "name": "stderr"
        },
        {
          "output_type": "stream",
          "text": [
            "27 /content/drive/My Drive/CSE499N/Test_fromTrain/file1000834.h5 raw data -  (34, 640, 372) -- input test volume -  (34, 320, 320)\n"
          ],
          "name": "stdout"
        },
        {
          "output_type": "stream",
          "text": [
            "\r 40%|████      | 28/70 [04:53<06:25,  9.17s/it]"
          ],
          "name": "stderr"
        },
        {
          "output_type": "stream",
          "text": [
            "28 /content/drive/My Drive/CSE499N/Test_fromTrain/file1000865.h5 raw data -  (30, 640, 372) -- input test volume -  (30, 320, 320)\n"
          ],
          "name": "stdout"
        },
        {
          "output_type": "stream",
          "text": [
            "\r 41%|████▏     | 29/70 [05:03<06:27,  9.46s/it]"
          ],
          "name": "stderr"
        },
        {
          "output_type": "stream",
          "text": [
            "29 /content/drive/My Drive/CSE499N/Test_fromTrain/file1000970.h5 raw data -  (36, 640, 372) -- input test volume -  (36, 320, 320)\n"
          ],
          "name": "stdout"
        },
        {
          "output_type": "stream",
          "text": [
            "\r 43%|████▎     | 30/70 [05:15<06:39, 10.00s/it]"
          ],
          "name": "stderr"
        },
        {
          "output_type": "stream",
          "text": [
            "30 /content/drive/My Drive/CSE499N/Test_fromTrain/file1000984.h5 raw data -  (33, 640, 372) -- input test volume -  (33, 320, 320)\n"
          ],
          "name": "stdout"
        },
        {
          "output_type": "stream",
          "text": [
            "\r 44%|████▍     | 31/70 [05:28<07:04, 10.89s/it]"
          ],
          "name": "stderr"
        },
        {
          "output_type": "stream",
          "text": [
            "31 /content/drive/My Drive/CSE499N/Test_fromTrain/file1000827.h5 raw data -  (32, 640, 372) -- input test volume -  (32, 320, 320)\n"
          ],
          "name": "stdout"
        },
        {
          "output_type": "stream",
          "text": [
            "\r 46%|████▌     | 32/70 [05:36<06:19,  9.99s/it]"
          ],
          "name": "stderr"
        },
        {
          "output_type": "stream",
          "text": [
            "32 /content/drive/My Drive/CSE499N/Test_fromTrain/file1000954.h5 raw data -  (33, 640, 322) -- input test volume -  (33, 320, 320)\n"
          ],
          "name": "stdout"
        },
        {
          "output_type": "stream",
          "text": [
            "\r 47%|████▋     | 33/70 [05:57<08:11, 13.27s/it]"
          ],
          "name": "stderr"
        },
        {
          "output_type": "stream",
          "text": [
            "33 /content/drive/My Drive/CSE499N/Test_fromTrain/file1000968.h5 raw data -  (34, 640, 372) -- input test volume -  (34, 320, 320)\n"
          ],
          "name": "stdout"
        },
        {
          "output_type": "stream",
          "text": [
            "\r 49%|████▊     | 34/70 [06:05<07:10, 11.95s/it]"
          ],
          "name": "stderr"
        },
        {
          "output_type": "stream",
          "text": [
            "34 /content/drive/My Drive/CSE499N/Test_fromTrain/file1000964.h5 raw data -  (32, 640, 372) -- input test volume -  (32, 320, 320)\n"
          ],
          "name": "stdout"
        },
        {
          "output_type": "stream",
          "text": [
            "\r 50%|█████     | 35/70 [06:14<06:25, 11.03s/it]"
          ],
          "name": "stderr"
        },
        {
          "output_type": "stream",
          "text": [
            "35 /content/drive/My Drive/CSE499N/Test_fromTrain/file1000963.h5 raw data -  (32, 640, 372) -- input test volume -  (32, 320, 320)\n"
          ],
          "name": "stdout"
        },
        {
          "output_type": "stream",
          "text": [
            "\r 51%|█████▏    | 36/70 [06:23<05:53, 10.40s/it]"
          ],
          "name": "stderr"
        },
        {
          "output_type": "stream",
          "text": [
            "36 /content/drive/My Drive/CSE499N/Test_fromTrain/file1000661.h5 raw data -  (30, 640, 372) -- input test volume -  (30, 320, 320)\n"
          ],
          "name": "stdout"
        },
        {
          "output_type": "stream",
          "text": [
            "\r 53%|█████▎    | 37/70 [06:38<06:22, 11.58s/it]"
          ],
          "name": "stderr"
        },
        {
          "output_type": "stream",
          "text": [
            "37 /content/drive/My Drive/CSE499N/Test_fromTrain/file1000814.h5 raw data -  (32, 640, 372) -- input test volume -  (32, 320, 320)\n"
          ],
          "name": "stdout"
        },
        {
          "output_type": "stream",
          "text": [
            "\r 54%|█████▍    | 38/70 [06:47<05:48, 10.90s/it]"
          ],
          "name": "stderr"
        },
        {
          "output_type": "stream",
          "text": [
            "38 /content/drive/My Drive/CSE499N/Test_fromTrain/file1000994.h5 raw data -  (30, 640, 372) -- input test volume -  (30, 320, 320)\n"
          ],
          "name": "stdout"
        },
        {
          "output_type": "stream",
          "text": [
            "\r 56%|█████▌    | 39/70 [06:55<05:15, 10.17s/it]"
          ],
          "name": "stderr"
        },
        {
          "output_type": "stream",
          "text": [
            "39 /content/drive/My Drive/CSE499N/Test_fromTrain/file1000752.h5 raw data -  (33, 640, 322) -- input test volume -  (33, 320, 320)\n"
          ],
          "name": "stdout"
        },
        {
          "output_type": "stream",
          "text": [
            "\r 57%|█████▋    | 40/70 [07:07<05:14, 10.49s/it]"
          ],
          "name": "stderr"
        },
        {
          "output_type": "stream",
          "text": [
            "40 /content/drive/My Drive/CSE499N/Test_fromTrain/file1000863.h5 raw data -  (35, 640, 372) -- input test volume -  (35, 320, 320)\n"
          ],
          "name": "stdout"
        },
        {
          "output_type": "stream",
          "text": [
            "\r 59%|█████▊    | 41/70 [07:17<05:04, 10.51s/it]"
          ],
          "name": "stderr"
        },
        {
          "output_type": "stream",
          "text": [
            "41 /content/drive/My Drive/CSE499N/Test_fromTrain/file1000824.h5 raw data -  (35, 640, 372) -- input test volume -  (35, 320, 320)\n"
          ],
          "name": "stdout"
        },
        {
          "output_type": "stream",
          "text": [
            "\r 60%|██████    | 42/70 [07:24<04:23,  9.40s/it]"
          ],
          "name": "stderr"
        },
        {
          "output_type": "stream",
          "text": [
            "42 /content/drive/My Drive/CSE499N/Test_fromTrain/file1000955.h5 raw data -  (37, 640, 372) -- input test volume -  (37, 320, 320)\n"
          ],
          "name": "stdout"
        },
        {
          "output_type": "stream",
          "text": [
            "\r 61%|██████▏   | 43/70 [07:35<04:29,  9.99s/it]"
          ],
          "name": "stderr"
        },
        {
          "output_type": "stream",
          "text": [
            "43 /content/drive/My Drive/CSE499N/Test_fromTrain/file1000615.h5 raw data -  (37, 640, 372) -- input test volume -  (37, 320, 320)\n"
          ],
          "name": "stdout"
        },
        {
          "output_type": "stream",
          "text": [
            "\r 63%|██████▎   | 44/70 [07:43<04:00,  9.27s/it]"
          ],
          "name": "stderr"
        },
        {
          "output_type": "stream",
          "text": [
            "44 /content/drive/My Drive/CSE499N/Test_fromTrain/file1000988.h5 raw data -  (30, 640, 372) -- input test volume -  (30, 320, 320)\n"
          ],
          "name": "stdout"
        },
        {
          "output_type": "stream",
          "text": [
            "\r 64%|██████▍   | 45/70 [07:53<04:00,  9.61s/it]"
          ],
          "name": "stderr"
        },
        {
          "output_type": "stream",
          "text": [
            "45 /content/drive/My Drive/CSE499N/Test_fromTrain/file1000959.h5 raw data -  (34, 640, 372) -- input test volume -  (34, 320, 320)\n"
          ],
          "name": "stdout"
        },
        {
          "output_type": "stream",
          "text": [
            "\r 66%|██████▌   | 46/70 [08:04<03:59,  9.98s/it]"
          ],
          "name": "stderr"
        },
        {
          "output_type": "stream",
          "text": [
            "46 /content/drive/My Drive/CSE499N/Test_fromTrain/file1000734.h5 raw data -  (34, 640, 372) -- input test volume -  (34, 320, 320)\n"
          ],
          "name": "stdout"
        },
        {
          "output_type": "stream",
          "text": [
            "\r 67%|██████▋   | 47/70 [08:25<05:04, 13.23s/it]"
          ],
          "name": "stderr"
        },
        {
          "output_type": "stream",
          "text": [
            "47 /content/drive/My Drive/CSE499N/Test_fromTrain/file1000808.h5 raw data -  (34, 640, 372) -- input test volume -  (34, 320, 320)\n"
          ],
          "name": "stdout"
        },
        {
          "output_type": "stream",
          "text": [
            "\r 69%|██████▊   | 48/70 [08:34<04:25, 12.08s/it]"
          ],
          "name": "stderr"
        },
        {
          "output_type": "stream",
          "text": [
            "48 /content/drive/My Drive/CSE499N/Test_fromTrain/file1000919.h5 raw data -  (32, 640, 372) -- input test volume -  (32, 320, 320)\n"
          ],
          "name": "stdout"
        },
        {
          "output_type": "stream",
          "text": [
            "\r 70%|███████   | 49/70 [08:44<03:57, 11.30s/it]"
          ],
          "name": "stderr"
        },
        {
          "output_type": "stream",
          "text": [
            "49 /content/drive/My Drive/CSE499N/Test_fromTrain/file1000721.h5 raw data -  (32, 640, 372) -- input test volume -  (32, 320, 320)\n"
          ],
          "name": "stdout"
        },
        {
          "output_type": "stream",
          "text": [
            "\r 71%|███████▏  | 50/70 [08:57<03:54, 11.72s/it]"
          ],
          "name": "stderr"
        },
        {
          "output_type": "stream",
          "text": [
            "50 /content/drive/My Drive/CSE499N/Test_fromTrain/file1000639.h5 raw data -  (34, 640, 372) -- input test volume -  (34, 320, 320)\n"
          ],
          "name": "stdout"
        },
        {
          "output_type": "stream",
          "text": [
            "\r 73%|███████▎  | 51/70 [09:09<03:49, 12.06s/it]"
          ],
          "name": "stderr"
        },
        {
          "output_type": "stream",
          "text": [
            "51 /content/drive/My Drive/CSE499N/Test_fromTrain/file1000936.h5 raw data -  (36, 640, 372) -- input test volume -  (36, 320, 320)\n"
          ],
          "name": "stdout"
        },
        {
          "output_type": "stream",
          "text": [
            "\r 74%|███████▍  | 52/70 [09:24<03:50, 12.78s/it]"
          ],
          "name": "stderr"
        },
        {
          "output_type": "stream",
          "text": [
            "52 /content/drive/My Drive/CSE499N/Test_fromTrain/file1000995.h5 raw data -  (32, 640, 372) -- input test volume -  (32, 320, 320)\n"
          ],
          "name": "stdout"
        },
        {
          "output_type": "stream",
          "text": [
            "\r 76%|███████▌  | 53/70 [09:35<03:30, 12.38s/it]"
          ],
          "name": "stderr"
        },
        {
          "output_type": "stream",
          "text": [
            "53 /content/drive/My Drive/CSE499N/Test_fromTrain/file1000985.h5 raw data -  (35, 640, 372) -- input test volume -  (35, 320, 320)\n"
          ],
          "name": "stdout"
        },
        {
          "output_type": "stream",
          "text": [
            "\r 77%|███████▋  | 54/70 [09:49<03:23, 12.71s/it]"
          ],
          "name": "stderr"
        },
        {
          "output_type": "stream",
          "text": [
            "54 /content/drive/My Drive/CSE499N/Test_fromTrain/file1000755.h5 raw data -  (32, 640, 372) -- input test volume -  (32, 320, 320)\n"
          ],
          "name": "stdout"
        },
        {
          "output_type": "stream",
          "text": [
            "\r 79%|███████▊  | 55/70 [10:01<03:07, 12.51s/it]"
          ],
          "name": "stderr"
        },
        {
          "output_type": "stream",
          "text": [
            "55 /content/drive/My Drive/CSE499N/Test_fromTrain/file1000723.h5 raw data -  (32, 640, 372) -- input test volume -  (32, 320, 320)\n"
          ],
          "name": "stdout"
        },
        {
          "output_type": "stream",
          "text": [
            "\r 80%|████████  | 56/70 [10:05<02:18,  9.90s/it]"
          ],
          "name": "stderr"
        },
        {
          "output_type": "stream",
          "text": [
            "56 /content/drive/My Drive/CSE499N/Test_fromTrain/file1000784.h5 raw data -  (41, 640, 372) -- input test volume -  (41, 320, 320)\n"
          ],
          "name": "stdout"
        },
        {
          "output_type": "stream",
          "text": [
            "\r 81%|████████▏ | 57/70 [10:13<02:02,  9.43s/it]"
          ],
          "name": "stderr"
        },
        {
          "output_type": "stream",
          "text": [
            "57 /content/drive/My Drive/CSE499N/Test_fromTrain/file1000898.h5 raw data -  (32, 640, 322) -- input test volume -  (32, 320, 320)\n"
          ],
          "name": "stdout"
        },
        {
          "output_type": "stream",
          "text": [
            "\r 83%|████████▎ | 58/70 [10:22<01:52,  9.38s/it]"
          ],
          "name": "stderr"
        },
        {
          "output_type": "stream",
          "text": [
            "58 /content/drive/My Drive/CSE499N/Test_fromTrain/file1000719.h5 raw data -  (33, 640, 372) -- input test volume -  (33, 320, 320)\n"
          ],
          "name": "stdout"
        },
        {
          "output_type": "stream",
          "text": [
            "\r 84%|████████▍ | 59/70 [10:33<01:48,  9.88s/it]"
          ],
          "name": "stderr"
        },
        {
          "output_type": "stream",
          "text": [
            "59 /content/drive/My Drive/CSE499N/Test_fromTrain/file1000821.h5 raw data -  (37, 640, 372) -- input test volume -  (37, 320, 320)\n"
          ],
          "name": "stdout"
        },
        {
          "output_type": "stream",
          "text": [
            "\r 86%|████████▌ | 60/70 [10:42<01:34,  9.41s/it]"
          ],
          "name": "stderr"
        },
        {
          "output_type": "stream",
          "text": [
            "60 /content/drive/My Drive/CSE499N/Test_fromTrain/file1000896.h5 raw data -  (34, 640, 372) -- input test volume -  (34, 320, 320)\n"
          ],
          "name": "stdout"
        },
        {
          "output_type": "stream",
          "text": [
            "\r 87%|████████▋ | 61/70 [10:54<01:32, 10.24s/it]"
          ],
          "name": "stderr"
        },
        {
          "output_type": "stream",
          "text": [
            "61 /content/drive/My Drive/CSE499N/Test_fromTrain/file1001001.h5 raw data -  (34, 640, 372) -- input test volume -  (34, 320, 320)\n"
          ],
          "name": "stdout"
        },
        {
          "output_type": "stream",
          "text": [
            "\r 89%|████████▊ | 62/70 [11:09<01:34, 11.86s/it]"
          ],
          "name": "stderr"
        },
        {
          "output_type": "stream",
          "text": [
            "62 /content/drive/My Drive/CSE499N/Test_fromTrain/file1000776.h5 raw data -  (30, 640, 372) -- input test volume -  (30, 320, 320)\n"
          ],
          "name": "stdout"
        },
        {
          "output_type": "stream",
          "text": [
            "\r 90%|█████████ | 63/70 [11:16<01:12, 10.33s/it]"
          ],
          "name": "stderr"
        },
        {
          "output_type": "stream",
          "text": [
            "63 /content/drive/My Drive/CSE499N/Test_fromTrain/file1000715.h5 raw data -  (30, 640, 372) -- input test volume -  (30, 320, 320)\n"
          ],
          "name": "stdout"
        },
        {
          "output_type": "stream",
          "text": [
            "\r 91%|█████████▏| 64/70 [11:30<01:08, 11.46s/it]"
          ],
          "name": "stderr"
        },
        {
          "output_type": "stream",
          "text": [
            "64 /content/drive/My Drive/CSE499N/Test_fromTrain/file1000740.h5 raw data -  (35, 640, 372) -- input test volume -  (35, 320, 320)\n"
          ],
          "name": "stdout"
        },
        {
          "output_type": "stream",
          "text": [
            "\r 93%|█████████▎| 65/70 [11:40<00:54, 10.89s/it]"
          ],
          "name": "stderr"
        },
        {
          "output_type": "stream",
          "text": [
            "65 /content/drive/My Drive/CSE499N/Test_fromTrain/file1000941.h5 raw data -  (32, 640, 388) -- input test volume -  (32, 320, 320)\n"
          ],
          "name": "stdout"
        },
        {
          "output_type": "stream",
          "text": [
            "\r 94%|█████████▍| 66/70 [11:52<00:44, 11.15s/it]"
          ],
          "name": "stderr"
        },
        {
          "output_type": "stream",
          "text": [
            "66 /content/drive/My Drive/CSE499N/Test_fromTrain/file1000904.h5 raw data -  (34, 640, 372) -- input test volume -  (34, 320, 320)\n"
          ],
          "name": "stdout"
        },
        {
          "output_type": "stream",
          "text": [
            "\r 96%|█████████▌| 67/70 [12:09<00:39, 13.04s/it]"
          ],
          "name": "stderr"
        },
        {
          "output_type": "stream",
          "text": [
            "67 /content/drive/My Drive/CSE499N/Test_fromTrain/file1000709.h5 raw data -  (35, 640, 372) -- input test volume -  (35, 320, 320)\n"
          ],
          "name": "stdout"
        },
        {
          "output_type": "stream",
          "text": [
            "\r 97%|█████████▋| 68/70 [12:19<00:24, 12.24s/it]"
          ],
          "name": "stderr"
        },
        {
          "output_type": "stream",
          "text": [
            "68 /content/drive/My Drive/CSE499N/Test_fromTrain/file1000768.h5 raw data -  (30, 640, 372) -- input test volume -  (30, 320, 320)\n"
          ],
          "name": "stdout"
        },
        {
          "output_type": "stream",
          "text": [
            "\r 99%|█████████▊| 69/70 [12:30<00:11, 11.83s/it]"
          ],
          "name": "stderr"
        },
        {
          "output_type": "stream",
          "text": [
            "69 /content/drive/My Drive/CSE499N/Test_fromTrain/file1000999.h5 raw data -  (38, 640, 368) -- input test volume -  (38, 320, 320)\n"
          ],
          "name": "stdout"
        },
        {
          "output_type": "stream",
          "text": [
            "100%|██████████| 70/70 [12:32<00:00, 10.76s/it]"
          ],
          "name": "stderr"
        },
        {
          "output_type": "stream",
          "text": [
            "70 /content/drive/My Drive/CSE499N/Test_fromTrain/file1000682.h5 raw data -  (40, 640, 368) -- input test volume -  (40, 320, 320)\n"
          ],
          "name": "stdout"
        },
        {
          "output_type": "stream",
          "text": [
            "\n"
          ],
          "name": "stderr"
        }
      ]
    },
    {
      "cell_type": "code",
      "metadata": {
        "id": "Tbog3gonBlEu",
        "colab_type": "code",
        "colab": {
          "base_uri": "https://localhost:8080/",
          "height": 34
        },
        "outputId": "f5252cd6-cd0f-4f18-be4a-76176c6678cc"
      },
      "source": [
        "test_path = glob.glob(os.path.join(test_npy_path,\"*.npy\"))\n",
        "len(test_path)"
      ],
      "execution_count": 31,
      "outputs": [
        {
          "output_type": "execute_result",
          "data": {
            "text/plain": [
              "70"
            ]
          },
          "metadata": {
            "tags": []
          },
          "execution_count": 31
        }
      ]
    },
    {
      "cell_type": "code",
      "metadata": {
        "id": "U3nPk4YwChb4",
        "colab_type": "code",
        "colab": {
          "base_uri": "https://localhost:8080/",
          "height": 85
        },
        "outputId": "44fee3ee-2cf3-4766-893e-609867afc7b3"
      },
      "source": [
        "test_path[:4]"
      ],
      "execution_count": 32,
      "outputs": [
        {
          "output_type": "execute_result",
          "data": {
            "text/plain": [
              "['/content/drive/My Drive/CSE499N/Single Coil testNpyFromTrain/f1.npy',\n",
              " '/content/drive/My Drive/CSE499N/Single Coil testNpyFromTrain/f2.npy',\n",
              " '/content/drive/My Drive/CSE499N/Single Coil testNpyFromTrain/f3.npy',\n",
              " '/content/drive/My Drive/CSE499N/Single Coil testNpyFromTrain/f4.npy']"
            ]
          },
          "metadata": {
            "tags": []
          },
          "execution_count": 32
        }
      ]
    }
  ]
}