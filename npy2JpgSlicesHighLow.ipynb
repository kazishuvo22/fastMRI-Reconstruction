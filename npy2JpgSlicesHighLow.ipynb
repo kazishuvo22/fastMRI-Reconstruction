{
 "cells": [
  {
   "cell_type": "code",
   "execution_count": 1,
   "metadata": {},
   "outputs": [],
   "source": [
    "import os, glob\n",
    "import cv2\n",
    "import numpy as np\n",
    "import matplotlib.pyplot as plt\n",
    "import h5py\n",
    "import support as s\n",
    "from tqdm import tqdm"
   ]
  },
  {
   "cell_type": "code",
   "execution_count": 2,
   "metadata": {},
   "outputs": [
    {
     "data": {
      "text/plain": [
       "('dataset2/Single Coil 4x/high', 'dataset2/Single Coil 4x/low')"
      ]
     },
     "execution_count": 2,
     "metadata": {},
     "output_type": "execute_result"
    }
   ],
   "source": [
    "# Dataset directories\n",
    "high = \"dataset2/Single Coil 4x/high\"\n",
    "low  =\"dataset2/Single Coil 4x/low\"\n",
    "high,low"
   ]
  },
  {
   "cell_type": "code",
   "execution_count": 3,
   "metadata": {},
   "outputs": [
    {
     "data": {
      "text/plain": [
       "(973, 973)"
      ]
     },
     "execution_count": 3,
     "metadata": {},
     "output_type": "execute_result"
    }
   ],
   "source": [
    "low_2D= glob.glob(os.path.join(low,'*.npy'))\n",
    "high_2D= glob.glob(os.path.join(high,'*.npy'))\n",
    "len(low_2D), len(high_2D)"
   ]
  },
  {
   "cell_type": "code",
   "execution_count": 4,
   "metadata": {},
   "outputs": [
    {
     "data": {
      "text/plain": [
       "('dataset2/Single coil 4x/low_jpg', 'dataset2/Single coil 4x/high_jpg')"
      ]
     },
     "execution_count": 4,
     "metadata": {},
     "output_type": "execute_result"
    }
   ],
   "source": [
    "LOW_DIR_2D_PATH = \"dataset2/Single coil 4x/low_jpg\"\n",
    "HIGH_DIR_2D_PATH = \"dataset2/Single coil 4x/high_jpg\"\n",
    "LOW_DIR_2D_PATH , HIGH_DIR_2D_PATH "
   ]
  },
  {
   "cell_type": "code",
   "execution_count": 5,
   "metadata": {},
   "outputs": [
    {
     "name": "stderr",
     "output_type": "stream",
     "text": [
      "100%|████████████████████████████████████████████████████████████████████████████████| 973/973 [15:26<00:00,  1.05it/s]"
     ]
    },
    {
     "name": "stdout",
     "output_type": "stream",
     "text": [
      "Total slices: 34742\n"
     ]
    },
    {
     "name": "stderr",
     "output_type": "stream",
     "text": [
      "\n"
     ]
    }
   ],
   "source": [
    "c=0\n",
    "total_slices = 0\n",
    "\n",
    "for l in tqdm(low_2D[:]):\n",
    "    img_3d = np.load(\"{}\".format(l))\n",
    "    img_3d = np.moveaxis(img_3d, 0, 2)\n",
    "    slices = img_3d.shape[-1]\n",
    "    total_slices+=slices\n",
    "    \n",
    "    # iterate over each slice and save\n",
    "    for i in range(slices):\n",
    "        img = img_3d[:,:,i]\n",
    "        img = s.normalize(img) # Normalize image\n",
    "        cv2.imwrite(\"{}/{}_{}.jpg\".format(LOW_DIR_2D_PATH, c, i), img * 255)\n",
    "        img = None\n",
    "        \n",
    "    img_3d = None\n",
    "    c+=1\n",
    "\n",
    "print(\"Total slices: {}\".format(total_slices))"
   ]
  },
  {
   "cell_type": "code",
   "execution_count": 6,
   "metadata": {},
   "outputs": [
    {
     "name": "stderr",
     "output_type": "stream",
     "text": [
      "100%|████████████████████████████████████████████████████████████████████████████████| 973/973 [15:23<00:00,  1.05it/s]"
     ]
    },
    {
     "name": "stdout",
     "output_type": "stream",
     "text": [
      "Total slices: 34742\n"
     ]
    },
    {
     "name": "stderr",
     "output_type": "stream",
     "text": [
      "\n"
     ]
    }
   ],
   "source": [
    "c=0\n",
    "total_slices = 0\n",
    "\n",
    "for l in tqdm(high_2D[:]):\n",
    "    img_3d = np.load(\"{}\".format(l))\n",
    "    img_3d = np.moveaxis(img_3d, 0, 2)\n",
    "    slices = img_3d.shape[-1]\n",
    "    total_slices+=slices\n",
    "    \n",
    "    # iterate over each slice and save\n",
    "    for i in range(slices):\n",
    "        img = img_3d[:,:,i]\n",
    "        img = s.normalize(img) # Normalize image\n",
    "        cv2.imwrite(\"{}/{}_{}.jpg\".format(HIGH_DIR_2D_PATH, c, i), img * 255)\n",
    "        img = None\n",
    "        \n",
    "    img_3d = None\n",
    "    c+=1\n",
    "\n",
    "print(\"Total slices: {}\".format(total_slices))"
   ]
  },
  {
   "cell_type": "code",
   "execution_count": null,
   "metadata": {},
   "outputs": [],
   "source": []
  }
 ],
 "metadata": {
  "kernelspec": {
   "display_name": "Python 3",
   "language": "python",
   "name": "python3"
  },
  "language_info": {
   "codemirror_mode": {
    "name": "ipython",
    "version": 3
   },
   "file_extension": ".py",
   "mimetype": "text/x-python",
   "name": "python",
   "nbconvert_exporter": "python",
   "pygments_lexer": "ipython3",
   "version": "3.7.4"
  }
 },
 "nbformat": 4,
 "nbformat_minor": 4
}
